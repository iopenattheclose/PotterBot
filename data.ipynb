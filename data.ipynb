{
 "cells": [
  {
   "cell_type": "code",
   "execution_count": 10,
   "metadata": {},
   "outputs": [],
   "source": [
    "from datasets import load_dataset\n",
    "\n",
    "ds = load_dataset(\"WutYee/HarryPotter_books_1to7\")"
   ]
  },
  {
   "cell_type": "code",
   "execution_count": 14,
   "metadata": {},
   "outputs": [
    {
     "data": {
      "text/plain": [
       "Dataset({\n",
       "    features: ['text'],\n",
       "    num_rows: 81349\n",
       "})"
      ]
     },
     "execution_count": 14,
     "metadata": {},
     "output_type": "execute_result"
    }
   ],
   "source": [
    "ds['train']"
   ]
  },
  {
   "cell_type": "code",
   "execution_count": 22,
   "metadata": {},
   "outputs": [],
   "source": [
    "import pandas as pd\n",
    "\n",
    "ds_train = pd.DataFrame(ds['train'])\n",
    "ds_train.to_csv('ds_train.csv', index=False, encoding='utf-8')\n",
    "ds_val = pd.DataFrame(ds['validation'])\n",
    "ds_val.to_csv('ds_val.csv', index=False, encoding='utf-8')\n",
    "ds_test = pd.DataFrame(ds['test'])\n",
    "ds_test.to_csv('ds_test.csv', index=False, encoding='utf-8')\n",
    "\n"
   ]
  },
  {
   "cell_type": "code",
   "execution_count": 15,
   "metadata": {},
   "outputs": [
    {
     "data": {
      "text/plain": [
       "(81349, 1)"
      ]
     },
     "execution_count": 15,
     "metadata": {},
     "output_type": "execute_result"
    }
   ],
   "source": [
    "ds_train.shape"
   ]
  },
  {
   "cell_type": "code",
   "execution_count": null,
   "metadata": {},
   "outputs": [
    {
     "data": {
      "text/plain": [
       "text    pretended she didn’t have a sister, because he...\n",
       "Name: 36, dtype: object"
      ]
     },
     "execution_count": 21,
     "metadata": {},
     "output_type": "execute_result"
    }
   ],
   "source": [
    "ds_train.loc[36]"
   ]
  },
  {
   "cell_type": "code",
   "execution_count": 5,
   "metadata": {},
   "outputs": [
    {
     "data": {
      "text/html": [
       "<div>\n",
       "<style scoped>\n",
       "    .dataframe tbody tr th:only-of-type {\n",
       "        vertical-align: middle;\n",
       "    }\n",
       "\n",
       "    .dataframe tbody tr th {\n",
       "        vertical-align: top;\n",
       "    }\n",
       "\n",
       "    .dataframe thead th {\n",
       "        text-align: right;\n",
       "    }\n",
       "</style>\n",
       "<table border=\"1\" class=\"dataframe\">\n",
       "  <thead>\n",
       "    <tr style=\"text-align: right;\">\n",
       "      <th></th>\n",
       "      <th>question</th>\n",
       "      <th>answer</th>\n",
       "      <th>text</th>\n",
       "    </tr>\n",
       "  </thead>\n",
       "  <tbody>\n",
       "    <tr>\n",
       "      <th>0</th>\n",
       "      <td>What are the three European wizarding schools ...</td>\n",
       "      <td>Hogwarts, Beauxbatons, and Durmstrang.</td>\n",
       "      <td>&lt;s&gt;[INST] What are the three European wizardin...</td>\n",
       "    </tr>\n",
       "    <tr>\n",
       "      <th>1</th>\n",
       "      <td>When was Hogwarts founded?</td>\n",
       "      <td>10th century</td>\n",
       "      <td>&lt;s&gt;[INST] When was Hogwarts founded? [/INST] 1...</td>\n",
       "    </tr>\n",
       "    <tr>\n",
       "      <th>2</th>\n",
       "      <td>What is a Wronski Feint?</td>\n",
       "      <td>Pretending to dive for the Snitch</td>\n",
       "      <td>&lt;s&gt;[INST] What is a Wronski Feint? [/INST] Pre...</td>\n",
       "    </tr>\n",
       "    <tr>\n",
       "      <th>3</th>\n",
       "      <td>You wouldn't know anything about this. Name a ...</td>\n",
       "      <td>Using polish</td>\n",
       "      <td>&lt;s&gt;[INST] You wouldn't know anything about thi...</td>\n",
       "    </tr>\n",
       "    <tr>\n",
       "      <th>4</th>\n",
       "      <td>Harry first took the Knight Bus in The Prisone...</td>\n",
       "      <td>14 sickles.</td>\n",
       "      <td>&lt;s&gt;[INST] Harry first took the Knight Bus in T...</td>\n",
       "    </tr>\n",
       "  </tbody>\n",
       "</table>\n",
       "</div>"
      ],
      "text/plain": [
       "                                            question  \\\n",
       "0  What are the three European wizarding schools ...   \n",
       "1                         When was Hogwarts founded?   \n",
       "2                           What is a Wronski Feint?   \n",
       "3  You wouldn't know anything about this. Name a ...   \n",
       "4  Harry first took the Knight Bus in The Prisone...   \n",
       "\n",
       "                                   answer  \\\n",
       "0  Hogwarts, Beauxbatons, and Durmstrang.   \n",
       "1                            10th century   \n",
       "2       Pretending to dive for the Snitch   \n",
       "3                            Using polish   \n",
       "4                             14 sickles.   \n",
       "\n",
       "                                                text  \n",
       "0  <s>[INST] What are the three European wizardin...  \n",
       "1  <s>[INST] When was Hogwarts founded? [/INST] 1...  \n",
       "2  <s>[INST] What is a Wronski Feint? [/INST] Pre...  \n",
       "3  <s>[INST] You wouldn't know anything about thi...  \n",
       "4  <s>[INST] Harry first took the Knight Bus in T...  "
      ]
     },
     "execution_count": 5,
     "metadata": {},
     "output_type": "execute_result"
    }
   ],
   "source": [
    "import pandas as pd\n",
    "\n",
    "df = pd.read_csv(\"qna_data/raw_data.csv\")\n",
    "df.head()\n",
    "\n"
   ]
  },
  {
   "cell_type": "code",
   "execution_count": 6,
   "metadata": {},
   "outputs": [
    {
     "data": {
      "text/html": [
       "<div>\n",
       "<style scoped>\n",
       "    .dataframe tbody tr th:only-of-type {\n",
       "        vertical-align: middle;\n",
       "    }\n",
       "\n",
       "    .dataframe tbody tr th {\n",
       "        vertical-align: top;\n",
       "    }\n",
       "\n",
       "    .dataframe thead th {\n",
       "        text-align: right;\n",
       "    }\n",
       "</style>\n",
       "<table border=\"1\" class=\"dataframe\">\n",
       "  <thead>\n",
       "    <tr style=\"text-align: right;\">\n",
       "      <th></th>\n",
       "      <th>question</th>\n",
       "      <th>answer</th>\n",
       "    </tr>\n",
       "  </thead>\n",
       "  <tbody>\n",
       "    <tr>\n",
       "      <th>0</th>\n",
       "      <td>What are the three European wizarding schools ...</td>\n",
       "      <td>Hogwarts, Beauxbatons, and Durmstrang.</td>\n",
       "    </tr>\n",
       "    <tr>\n",
       "      <th>1</th>\n",
       "      <td>When was Hogwarts founded?</td>\n",
       "      <td>10th century</td>\n",
       "    </tr>\n",
       "    <tr>\n",
       "      <th>2</th>\n",
       "      <td>What is a Wronski Feint?</td>\n",
       "      <td>Pretending to dive for the Snitch</td>\n",
       "    </tr>\n",
       "    <tr>\n",
       "      <th>3</th>\n",
       "      <td>You wouldn't know anything about this. Name a ...</td>\n",
       "      <td>Using polish</td>\n",
       "    </tr>\n",
       "    <tr>\n",
       "      <th>4</th>\n",
       "      <td>Harry first took the Knight Bus in The Prisone...</td>\n",
       "      <td>14 sickles.</td>\n",
       "    </tr>\n",
       "  </tbody>\n",
       "</table>\n",
       "</div>"
      ],
      "text/plain": [
       "                                            question  \\\n",
       "0  What are the three European wizarding schools ...   \n",
       "1                         When was Hogwarts founded?   \n",
       "2                           What is a Wronski Feint?   \n",
       "3  You wouldn't know anything about this. Name a ...   \n",
       "4  Harry first took the Knight Bus in The Prisone...   \n",
       "\n",
       "                                   answer  \n",
       "0  Hogwarts, Beauxbatons, and Durmstrang.  \n",
       "1                            10th century  \n",
       "2       Pretending to dive for the Snitch  \n",
       "3                            Using polish  \n",
       "4                             14 sickles.  "
      ]
     },
     "execution_count": 6,
     "metadata": {},
     "output_type": "execute_result"
    }
   ],
   "source": [
    "df.drop(columns=['text'],inplace=True)\n",
    "df.head()"
   ]
  },
  {
   "cell_type": "code",
   "execution_count": 10,
   "metadata": {},
   "outputs": [],
   "source": [
    "df.rename(columns={'question': 'prompt','answer':'completion'},inplace=True)"
   ]
  },
  {
   "cell_type": "code",
   "execution_count": 13,
   "metadata": {},
   "outputs": [
    {
     "data": {
      "text/html": [
       "<div>\n",
       "<style scoped>\n",
       "    .dataframe tbody tr th:only-of-type {\n",
       "        vertical-align: middle;\n",
       "    }\n",
       "\n",
       "    .dataframe tbody tr th {\n",
       "        vertical-align: top;\n",
       "    }\n",
       "\n",
       "    .dataframe thead th {\n",
       "        text-align: right;\n",
       "    }\n",
       "</style>\n",
       "<table border=\"1\" class=\"dataframe\">\n",
       "  <thead>\n",
       "    <tr style=\"text-align: right;\">\n",
       "      <th></th>\n",
       "      <th>prompt</th>\n",
       "      <th>completion</th>\n",
       "    </tr>\n",
       "  </thead>\n",
       "  <tbody>\n",
       "    <tr>\n",
       "      <th>0</th>\n",
       "      <td>What are the three European wizarding schools ...</td>\n",
       "      <td>Hogwarts, Beauxbatons, and Durmstrang.</td>\n",
       "    </tr>\n",
       "    <tr>\n",
       "      <th>1</th>\n",
       "      <td>When was Hogwarts founded?</td>\n",
       "      <td>10th century</td>\n",
       "    </tr>\n",
       "    <tr>\n",
       "      <th>2</th>\n",
       "      <td>What is a Wronski Feint?</td>\n",
       "      <td>Pretending to dive for the Snitch</td>\n",
       "    </tr>\n",
       "    <tr>\n",
       "      <th>3</th>\n",
       "      <td>You wouldn't know anything about this. Name a ...</td>\n",
       "      <td>Using polish</td>\n",
       "    </tr>\n",
       "    <tr>\n",
       "      <th>4</th>\n",
       "      <td>Harry first took the Knight Bus in The Prisone...</td>\n",
       "      <td>14 sickles.</td>\n",
       "    </tr>\n",
       "  </tbody>\n",
       "</table>\n",
       "</div>"
      ],
      "text/plain": [
       "                                              prompt  \\\n",
       "0  What are the three European wizarding schools ...   \n",
       "1                         When was Hogwarts founded?   \n",
       "2                           What is a Wronski Feint?   \n",
       "3  You wouldn't know anything about this. Name a ...   \n",
       "4  Harry first took the Knight Bus in The Prisone...   \n",
       "\n",
       "                               completion  \n",
       "0  Hogwarts, Beauxbatons, and Durmstrang.  \n",
       "1                            10th century  \n",
       "2       Pretending to dive for the Snitch  \n",
       "3                            Using polish  \n",
       "4                             14 sickles.  "
      ]
     },
     "execution_count": 13,
     "metadata": {},
     "output_type": "execute_result"
    }
   ],
   "source": [
    "df.head()"
   ]
  },
  {
   "cell_type": "code",
   "execution_count": 23,
   "metadata": {},
   "outputs": [
    {
     "name": "stdout",
     "output_type": "stream",
     "text": [
      "1279\n",
      "Train set size: 959\n",
      "Validation set size: 224\n",
      "Test set size: 96\n",
      "1279\n"
     ]
    }
   ],
   "source": [
    "from sklearn.model_selection import train_test_split\n",
    "\n",
    "print(df.shape[0])\n",
    "train, test = train_test_split(df, train_size=0.75, random_state=42) \n",
    "\n",
    "test, val = train_test_split(test, train_size=0.3, random_state=42) \n",
    "\n",
    "print(f\"Train set size: {len(train)}\")\n",
    "print(f\"Validation set size: {len(val)}\")\n",
    "print(f\"Test set size: {len(test)}\")\n",
    "print(len(train)+len(test)+len(val))"
   ]
  },
  {
   "cell_type": "code",
   "execution_count": 24,
   "metadata": {},
   "outputs": [],
   "source": [
    "df.to_json('train.jsonl', orient='records', lines=True) \n",
    "df.to_json('val.jsonl', orient='records', lines=True) \n",
    "df.to_json('test.jsonl', orient='records', lines=True) \n"
   ]
  },
  {
   "cell_type": "code",
   "execution_count": null,
   "metadata": {},
   "outputs": [],
   "source": []
  },
  {
   "cell_type": "code",
   "execution_count": null,
   "metadata": {},
   "outputs": [
    {
     "ename": "",
     "evalue": "",
     "output_type": "error",
     "traceback": [
      "\u001b[1;31mRunning cells with 'venv (Python 3.11.5)' requires the ipykernel package.\n",
      "\u001b[1;31mRun the following command to install 'ipykernel' into the Python environment. \n",
      "\u001b[1;31mCommand: 'conda install -n venv ipykernel --update-deps --force-reinstall'"
     ]
    }
   ],
   "source": [
    "import subprocess\n",
    "from mlx_lm import load, generate"
   ]
  }
 ],
 "metadata": {
  "kernelspec": {
   "display_name": "Python 3",
   "language": "python",
   "name": "python3"
  },
  "language_info": {
   "codemirror_mode": {
    "name": "ipython",
    "version": 3
   },
   "file_extension": ".py",
   "mimetype": "text/x-python",
   "name": "python",
   "nbconvert_exporter": "python",
   "pygments_lexer": "ipython3",
   "version": "3.12.4"
  }
 },
 "nbformat": 4,
 "nbformat_minor": 2
}
